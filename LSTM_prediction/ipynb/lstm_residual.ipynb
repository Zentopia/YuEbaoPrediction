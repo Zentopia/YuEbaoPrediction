{
 "cells": [
  {
   "cell_type": "code",
   "execution_count": 8,
   "metadata": {
    "collapsed": true
   },
   "outputs": [
    {
     "name": "stdout",
     "output_type": "stream",
     "text": [
      "D:\\gejun\\Documents\\Git\\YuEbaoPrediction\\LSTM_prediction\n"
     ]
    }
   ],
   "source": [
    "%cd D:\\\\gejun\\\\Documents\\\\Git\\\\YuEbaoPrediction\\\\LSTM_prediction"
   ]
  },
  {
   "cell_type": "code",
   "execution_count": null,
   "metadata": {
    "collapsed": false
   },
   "outputs": [
    {
     "data": {
      "text/plain": [
       "[]"
      ]
     },
     "execution_count": 3,
     "metadata": {},
     "output_type": "execute_result"
    }
   ],
   "source": [
    "%matplotlib inline\n",
    "import matplotlib.pylab as plt\n",
    "import pandas as pd\n",
    "from statsmodels.tsa.stattools import adfuller\n",
    "from statsmodels.graphics.tsaplots import plot_acf, plot_pacf\n",
    "import numpy as np\n",
    "import sys\n",
    "from statsmodels.tsa.arima_model import ARMA\n",
    "\n",
    "def mape(y_true, y_pred):\n",
    "     return np.mean(np.abs((y_true - y_pred) / y_true))\n",
    "\n",
    "df = pd.read_csv('../file/Gridsearchtask.csv', index_col='report_date')\n",
    "\n",
    "# df['report_date'] = pd.to_datetime(df['report_date'], errors='coerce')\n",
    "\n",
    "lstm_residual = df['total_redeem_amt']-df['LSTM']\n",
    "lstm_residual.describe()\n",
    "\n",
    "lstm_residual.plot()\n",
    "plt.show()\n",
    "\n",
    "# 直方图 是否正态分布\n",
    "lstm_residual.hist()\n",
    "plt.show()\n",
    "\n",
    "# autocorrelation\n",
    "plot_acf(lstm_residual, ax=plt.gca(), lags=60)\n",
    "plt.show()\n",
    "\n",
    "# LBQ 检验\n",
    "from statsmodels.stats import diagnostic\n",
    "diagnostic.acorr_ljungbox(lstm_residual, lags=None, boxpierce=True)\n"
   ]
  }
 ],
 "metadata": {
  "kernelspec": {
   "display_name": "Python 2",
   "language": "python",
   "name": "python2"
  },
  "language_info": {
   "codemirror_mode": {
    "name": "ipython",
    "version": 2
   },
   "file_extension": ".py",
   "mimetype": "text/x-python",
   "name": "python",
   "nbconvert_exporter": "python",
   "pygments_lexer": "ipython2",
   "version": "2.7.6"
  }
 },
 "nbformat": 4,
 "nbformat_minor": 0
}
