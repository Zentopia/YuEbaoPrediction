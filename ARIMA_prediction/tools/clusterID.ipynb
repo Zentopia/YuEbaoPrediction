{
 "cells": [
  {
   "cell_type": "code",
   "execution_count": 2,
   "metadata": {
    "collapsed": true
   },
   "outputs": [
    {
     "name": "stdout",
     "output_type": "stream",
     "text": [
      "D:\\graduation\\YuEbaoPrediction\\ARIMA_prediction\\tools\n"
     ]
    },
    {
     "name": "stderr",
     "output_type": "stream",
     "text": [
      "D:\\Program Files\\Anaconda\\lib\\site-packages\\IPython\\core\\interactiveshell.py:2698: DtypeWarning: Columns (0,2,3,4,5,6,7,8,9,10,11,12,13,14,15,16,17) have mixed types. Specify dtype option on import or set low_memory=False.\n  interactivity=interactivity, compiler=compiler, result=result)\n"
     ]
    },
    {
     "name": "stdout",
     "output_type": "stream",
     "text": [
      "         total_purchase_amt  direct_purchase_amt  purchase_bal_amt  \\\nuser_id                                                              \n3                   10090.0              10090.0               0.0   \n4                       0.0                  0.0               0.0   \n7                  470386.0             470278.0          442805.0   \n9                       0.0                  0.0               0.0   \n10                 179569.0             176997.0          176997.0   \n12                      0.0                  0.0               0.0   \n13                      0.0                  0.0               0.0   \n14                 100006.0              99988.0           98444.0   \n15                3825715.0            3778029.0          199056.0   \n16                   3063.0               3063.0               0.0   \n17                  91508.0              91153.0               0.0   \n18                 477402.0             476206.0               0.0   \n20                8806425.0            8653112.0          219201.0   \n21                      0.0                  0.0               0.0   \n22                      0.0                  0.0               0.0   \n24                      0.0                  0.0               0.0   \n28                      0.0                  0.0               0.0   \n29                  10464.0              10244.0               0.0   \n31                1520819.0            1508561.0               0.0   \n32                6190121.0            6069249.0               0.0   \n33                 264093.0             263307.0               0.0   \n36                   8600.0               8412.0               0.0   \n37                      0.0                  0.0               0.0   \n39                      0.0                  0.0               0.0   \n44                   2951.0               2951.0               0.0   \n46                7559592.0            7526861.0               0.0   \n47                2508083.0            2505930.0         1287651.0   \n50               11855164.0           11769971.0            4274.0   \n51                   3935.0               3935.0            1009.0   \n52                      0.0                  0.0               0.0   \n...                     ...                  ...               ...   \n906                     0.0                  0.0               0.0   \n911                991192.0             989877.0               0.0   \n913                  2047.0               2047.0               0.0   \n914                     0.0                  0.0               0.0   \n916                   100.0                100.0               0.0   \n918                  1000.0               1000.0             982.0   \n920                 20306.0              20303.0           20303.0   \n923                   620.0                620.0             488.0   \n925                     0.0                  0.0               0.0   \n928                 40812.0              40812.0               0.0   \n929               1022441.0            1012598.0         1012598.0   \n932                     0.0                  0.0               0.0   \n935                 29939.0              29801.0           29801.0   \n938                     0.0                  0.0               0.0   \n940                     0.0                  0.0               0.0   \n942                  6967.0               6967.0               0.0   \n943                     0.0                  0.0               0.0   \n946                     0.0                  0.0               0.0   \n951                 71913.0              71810.0           71810.0   \n958               1808826.0            1804475.0          747522.0   \n961                     0.0                  0.0               0.0   \n963               3630008.0            3606397.0          129814.0   \n967                  4066.0               4066.0            3942.0   \n970                101196.0             101181.0               0.0   \n975                     0.0                  0.0               0.0   \n978              15274379.0           15209480.0           13835.0   \n987               1043981.0            1039680.0          305957.0   \n988                 51155.0              50355.0           50355.0   \n990               3826558.0            3825201.0               0.0   \nuser_id                 NaN                  NaN               NaN   \n\n         purchase_bank_amt  total_redeem_amt  consume_amt  transfer_amt  \nuser_id                                                                  \n3                  10090.0               0.0          0.0           0.0  \n4                      0.0               0.0          0.0           0.0  \n7                  27473.0          469723.0          0.0      469723.0  \n9                      0.0               0.0          0.0           0.0  \n10                     0.0           69898.0      69898.0           0.0  \n12                     0.0               0.0          0.0           0.0  \n13                     0.0               0.0          0.0           0.0  \n14                  1544.0          100006.0     100006.0           0.0  \n15               3578973.0         2035746.0      74030.0     1961716.0  \n16                  3063.0            3063.0          0.0        3063.0  \n17                 91153.0           84591.0      13550.0       71041.0  \n18                476206.0          465813.0     208625.0      257188.0  \n20               8433911.0         3227323.0    1126278.0     2101045.0  \n21                     0.0               0.0          0.0           0.0  \n22                     0.0               0.0          0.0           0.0  \n24                     0.0               0.0          0.0           0.0  \n28                     0.0               0.0          0.0           0.0  \n29                 10244.0               0.0          0.0           0.0  \n31               1508561.0               0.0          0.0           0.0  \n32               6069249.0         3617482.0      59670.0     3557812.0  \n33                263307.0           74800.0       3900.0       70900.0  \n36                  8412.0               0.0          0.0           0.0  \n37                     0.0               0.0          0.0           0.0  \n39                     0.0               0.0          0.0           0.0  \n44                  2951.0            2945.0          0.0        2945.0  \n46               7526861.0         6840796.0    2084025.0     4756771.0  \n47               1218279.0         1429493.0     443765.0      985728.0  \n50              11765697.0        11850404.0    2537761.0     9312643.0  \n51                  2926.0            3916.0        990.0        2926.0  \n52                     0.0               0.0          0.0           0.0  \n...                    ...               ...          ...           ...  \n906                    0.0               0.0          0.0           0.0  \n911               989877.0               0.0          0.0           0.0  \n913                 2047.0            1997.0          0.0        1997.0  \n914                    0.0               0.0          0.0           0.0  \n916                  100.0               0.0          0.0           0.0  \n918                   18.0            1000.0       1000.0           0.0  \n920                    0.0            8900.0       8900.0           0.0  \n923                  132.0             620.0        620.0           0.0  \n925                    0.0               0.0          0.0           0.0  \n928                40812.0           40812.0       1030.0       39782.0  \n929                    0.0          991945.0          0.0      991945.0  \n932                    0.0               0.0          0.0           0.0  \n935                    0.0           29885.0       9570.0       20315.0  \n938                    0.0               0.0          0.0           0.0  \n940                    0.0               0.0          0.0           0.0  \n942                 6967.0            6967.0          0.0        6967.0  \n943                    0.0               0.0          0.0           0.0  \n946                    0.0               0.0          0.0           0.0  \n951                    0.0           70728.0      29514.0       41214.0  \n958              1056953.0         1420799.0    1420799.0           0.0  \n961                    0.0               0.0          0.0           0.0  \n963              3476583.0         2719518.0      22600.0     2696918.0  \n967                  124.0            4066.0          0.0        4066.0  \n970               101181.0          100014.0     100014.0           0.0  \n975                    0.0               0.0          0.0           0.0  \n978             15195645.0        15118423.0      66960.0    15051463.0  \n987               733723.0         1005158.0     409159.0      595999.0  \n988                    0.0           14592.0      14592.0           0.0  \n990              3825201.0         3831465.0    1301600.0     2529865.0  \nuser_id                NaN               NaN          NaN           NaN  \n\n[28043 rows x 7 columns]\n"
     ]
    },
    {
     "name": "stdout",
     "output_type": "stream",
     "text": [
      "111\n"
     ]
    }
   ],
   "source": [
    "%cd D:\\\\graduation\\\\YuEbaoPrediction\\\\ARIMA_prediction\\\\tools\n",
    "%matplotlib inline\n",
    "import matplotlib.pylab as plt\n",
    "import pandas as pd\n",
    "from sklearn.manifold import Isomap,MDS,TSNE\n",
    "from sklearn.cluster import KMeans\n",
    "from sklearn import preprocessing\n",
    "from copy import deepcopy\n",
    "import numpy as np\n",
    "from matplotlib import pyplot as plt\n",
    "\n",
    "df = pd.read_csv('../../file/user_balance_table_all.csv', index_col='user_id', names=['user_id', 'report_date', 'tBalance', 'yBalance', 'total_purchase_amt', 'direct_purchase_amt', 'purchase_bal_amt', 'purchase_bank_amt', 'total_redeem_amt', 'consume_amt', 'transfer_amt', 'tftobal_amt', 'tftocard_amt', 'share_amt', 'category1', 'category2', 'category3', 'category4'\n",
    "], parse_dates=[1])\n",
    "\n",
    "df['report_date'] = pd.to_datetime(df['report_date'], errors='coerce')\n",
    "df['total_purchase_amt'] = pd.to_numeric(df['total_purchase_amt'], errors='coerce')\n",
    "df['total_redeem_amt'] = pd.to_numeric(df['total_redeem_amt'], errors='coerce')\n",
    "df['direct_purchase_amt'] = pd.to_numeric(df['direct_purchase_amt'], errors='coerce')\n",
    "df['purchase_bal_amt'] = pd.to_numeric(df['purchase_bal_amt'], errors='coerce')\n",
    "df['purchase_bank_amt'] = pd.to_numeric(df['purchase_bank_amt'], errors='coerce')\n",
    "df['consume_amt'] = pd.to_numeric(df['consume_amt'], errors='coerce')\n",
    "df['transfer_amt'] = pd.to_numeric(df['transfer_amt'], errors='coerce')\n",
    "\n",
    "df = df.groupby('user_id').sum()\n",
    "print(df)\n",
    "df = df.dropna(thresh=2)\n",
    "\n",
    "plt.rcParams['figure.figsize'] = (100, 100)\n",
    "plt.style.use('ggplot')\n",
    "\n",
    "# Getting the values and plotting it\n",
    "f1 = df['total_purchase_amt']\n",
    "f2 = df['total_redeem_amt']\n",
    "f3 = df['direct_purchase_amt']\n",
    "f4 = df['purchase_bal_amt']\n",
    "f5 = df['purchase_bank_amt']\n",
    "f6 = df['consume_amt']\n",
    "f7 = df['transfer_amt']\n",
    "X = np.array(list(zip(f1, f2)))\n",
    "\n",
    "kmeans = KMeans(n_clusters=3, random_state=0).fit(X)\n",
    "y = kmeans.labels_\n",
    "centers = kmeans.cluster_centers_\n",
    "marker = ['+','1','o']\n",
    "color = ['r','y','k']\n",
    "color_ = ['red point','yellow point','black point','blue point','green point']\n",
    "fig = plt.figure()\n",
    "ax = fig.add_subplot(111)\n",
    "ax.set_title('frame clustering')\n",
    "# a[1] plt.showzainali\n",
    "for j in range(3):\n",
    "   z = np.argwhere(y==j)\n",
    "   ax.scatter(X[z,0],X[z,1],c = color[j],marker = marker[j])\n",
    "print (111)"
   ]
  },
  {
   "cell_type": "code",
   "execution_count": null,
   "metadata": {},
   "outputs": [],
   "source": [
    ""
   ]
  }
 ],
 "metadata": {
  "kernelspec": {
   "display_name": "Python 2",
   "language": "python",
   "name": "python2"
  },
  "language_info": {
   "codemirror_mode": {
    "name": "ipython",
    "version": 2
   },
   "file_extension": ".py",
   "mimetype": "text/x-python",
   "name": "python",
   "nbconvert_exporter": "python",
   "pygments_lexer": "ipython2",
   "version": "2.7.6"
  }
 },
 "nbformat": 4,
 "nbformat_minor": 0
}
