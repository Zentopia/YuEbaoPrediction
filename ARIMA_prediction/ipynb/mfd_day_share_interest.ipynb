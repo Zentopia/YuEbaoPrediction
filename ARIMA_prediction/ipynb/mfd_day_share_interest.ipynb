{
 "cells": [
  {
   "cell_type": "code",
   "execution_count": null,
   "metadata": {
    "collapsed": false
   },
   "outputs": [],
   "source": [
    "import matplotlib.pylab as plt\n",
    "import pandas as pd\n",
    "\n",
    "df = pd.read_csv('mfd_day_share_interest.csv',\n",
    "                 parse_dates=[0])\n",
    "\n",
    "\n",
    "df['mfd_date'] = pd.to_datetime(df['mfd_date'], errors='coerce')\n",
    "labels = ['mfd_daily_yield', 'mfd_7daily_yield']\n",
    "for label in labels:\n",
    "    print(label)\n",
    "    df[label] = pd.to_numeric(df[label], errors='coerce')\n",
    "df = df.groupby('mfd_date').sum\n",
    "\n",
    "%matplotlib inline\n",
    "df"
   ]
  },
  {
   "cell_type": "code",
   "execution_count": null,
   "metadata": {},
   "outputs": [],
   "source": [
    ""
   ]
  }
 ],
 "metadata": {
  "kernelspec": {
   "display_name": "Python 2",
   "language": "python",
   "name": "python2"
  },
  "language_info": {
   "codemirror_mode": {
    "name": "ipython",
    "version": 2
   },
   "file_extension": ".py",
   "mimetype": "text/x-python",
   "name": "python",
   "nbconvert_exporter": "python",
   "pygments_lexer": "ipython2",
   "version": "2.7.6"
  }
 },
 "nbformat": 4,
 "nbformat_minor": 0
}
